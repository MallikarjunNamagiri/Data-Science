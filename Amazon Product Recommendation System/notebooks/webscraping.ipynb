{
 "nbformat": 4,
 "nbformat_minor": 2,
 "metadata": {
  "language_info": {
   "name": "python",
   "codemirror_mode": {
    "name": "ipython",
    "version": 3
   },
   "version": "3.6.4-final"
  },
  "orig_nbformat": 2,
  "file_extension": ".py",
  "mimetype": "text/x-python",
  "name": "python",
  "npconvert_exporter": "python",
  "pygments_lexer": "ipython3",
  "version": 3,
  "kernelspec": {
   "name": "python36464bitprogramdatavirtualenv1b840644900544fc952af7452a5416c8",
   "display_name": "Python 3.6.4 64-bit ('ProgramData': virtualenv)"
  }
 },
 "cells": [
  {
   "cell_type": "code",
   "execution_count": 2,
   "metadata": {},
   "outputs": [],
   "source": [
    "import requests\n",
    "import scrapy"
   ]
  },
  {
   "cell_type": "code",
   "execution_count": 4,
   "metadata": {},
   "outputs": [],
   "source": [
    "class WebsiteData(scrapy.Spider):\n",
    "    name = \"website_data\"\n",
    "    start_url = ['https://www.amazon.in/s/ref=lp_1953451031_nr_n_0?fst=as%3Aoff&rh=n%3A1571274031%2Cn%3A%211571275031%2Cn%3A1953448031%2Cn%3A1953451031%2Cn%3A1953452031&bbn=1953451031&ie=UTF8&qid=1578592206&rnid=1953451031']"
   ]
  },
  {
   "cell_type": "code",
   "execution_count": 5,
   "metadata": {},
   "outputs": [
    {
     "name": "stdout",
     "output_type": "stream",
     "text": "<class '__main__.WebsiteData'>\n"
    }
   ],
   "source": [
    "print(WebsiteData)"
   ]
  }
 ]
}